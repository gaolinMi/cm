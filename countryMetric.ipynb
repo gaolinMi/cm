{
 "cells": [
  {
   "cell_type": "code",
   "execution_count": null,
   "id": "4e00612a-e6eb-4d4c-8c12-c3d496ed02a8",
   "metadata": {},
   "outputs": [],
   "source": [
    "import pandas as pd\n",
    "import plotly.express as px\n",
    "from dash import Dash, dcc, html, Input, Output"
   ]
  },
  {
   "cell_type": "code",
   "execution_count": null,
   "id": "49e36fe1-55ac-4892-9db5-bab607716819",
   "metadata": {},
   "outputs": [],
   "source": [
    "cm = pd.read_csv('expanded_country_matrix.csv')"
   ]
  },
  {
   "cell_type": "code",
   "execution_count": null,
   "id": "c9a56914-5a81-49a7-8368-2c1872dede39",
   "metadata": {},
   "outputs": [],
   "source": [
    "commodity = pd.read_excel('commodity.xlsx')"
   ]
  },
  {
   "cell_type": "code",
   "execution_count": null,
   "id": "acd644d7-a2ef-4243-bfc8-8213d7173dc1",
   "metadata": {},
   "outputs": [],
   "source": [
    "cm2 = pd.merge(cm, commodity, how='left', on = 'commodity')\n",
    "df = cm2.iloc[:, 1:]\n"
   ]
  },
  {
   "cell_type": "code",
   "execution_count": null,
   "id": "a7106b21-a03b-4878-a856-192f9b0a0826",
   "metadata": {},
   "outputs": [],
   "source": [
    "df['formatted_date'] = df.year * 1000 + df.week_of_the_year * 10 + 0\n",
    "df['date'] = pd.to_datetime(df['formatted_date'], format='%Y%W%w')"
   ]
  },
  {
   "cell_type": "code",
   "execution_count": null,
   "id": "5b45e131-78b0-47ee-9e81-caaed8d1990b",
   "metadata": {},
   "outputs": [],
   "source": [
    "app = Dash(__name__)"
   ]
  },
  {
   "cell_type": "code",
   "execution_count": null,
   "id": "22c11905-75c6-4393-85ae-46457c6c80cb",
   "metadata": {},
   "outputs": [],
   "source": [
    "server = app.server"
   ]
  },
  {
   "cell_type": "code",
   "execution_count": null,
   "id": "6d62076f-6ef4-4b70-a6ad-9910dac51222",
   "metadata": {},
   "outputs": [],
   "source": [
    "app.layout = html.Div(\n",
    "    [\n",
    "        html.Div(\n",
    "        [\n",
    "        html.P('Choose a category'),\n",
    "        dcc.Dropdown(['Animal Products', 'Plant Products', 'Processed Food Products'], \n",
    "                      value = 'Animal Products', id = 'category')\n",
    "        ], style = {'width': '30%', 'display': 'inline-block'}),\n",
    "        \n",
    "        html.Div(\n",
    "        [\n",
    "        html.P('Choose a country'),\n",
    "        dcc.Dropdown(df['country'].unique(), \n",
    "                      value = 'Poland', id = 'country')\n",
    "        ], style = {'width': '30%', 'display': 'inline-block'}),\n",
    "        \n",
    "        html.Div(\n",
    "        [\n",
    "        html.P('Choose a disease'),\n",
    "        dcc.Dropdown(df['disease'].unique(), \n",
    "                      value = 'African swine fever', id = 'disease')\n",
    "        ], style = {'width': '30%', 'display': 'inline-block'}),\n",
    "        \n",
    "        dcc.Graph(id = 'myGraph')\n",
    "    ])\n",
    "    \n",
    "      \n",
    "             \n",
    "    "
   ]
  },
  {
   "cell_type": "code",
   "execution_count": null,
   "id": "6716424d-8d5d-4b4c-9da4-b70e084a9bc9",
   "metadata": {},
   "outputs": [],
   "source": [
    "@app.callback(\n",
    "    Output('myGraph', 'figure'),\n",
    "    Input('category', 'value'),\n",
    "    Input('country', 'value'),\n",
    "    Input('disease', 'value'),\n",
    "    )\n",
    "def update_graph(cat, country, disease):\n",
    "    \n",
    "    if cat == 'Animal Products':\n",
    "        dff = df[df['Animal Products'] == 1.0]\n",
    "    elif cat == 'Plant Products':\n",
    "        dff = df[df['Plant Products'] == 1.0]\n",
    "    else:\n",
    "        dff = df[df['Process Food Products'] == 1.0]\n",
    "        \n",
    "    dff = dff[dff['country'] == country]\n",
    "    dff = dff[dff['disease'] == disease]\n",
    "    \n",
    "    fig = px.scatter(x = dff['date'],\n",
    "                     y = dff['metric_tons'], \n",
    "                     hover_data = ['country', 'year', 'week_of_the_year', 'commodity'])\n",
    "    \n",
    "    fig.update_layout(margin={'l': 80, 'b': 80, 't': 50, 'r': 0}, hovermode='closest')\n",
    "    \n",
    "    fig.update_xaxes(title = 'date')\n",
    "    \n",
    "    fig.update_yaxes(title = 'metric tons')\n",
    "    \n",
    "    return fig\n"
   ]
  },
  {
   "cell_type": "code",
   "execution_count": null,
   "id": "27310037-a257-4e7d-b16d-9528ae0da3c1",
   "metadata": {},
   "outputs": [],
   "source": [
    "if __name__ == '__main__':\n",
    "    app.run_server(debug = True)"
   ]
  },
  {
   "cell_type": "code",
   "execution_count": null,
   "id": "c9423049-be28-4980-965e-2e7adb5ed40b",
   "metadata": {},
   "outputs": [],
   "source": []
  }
 ],
 "metadata": {
  "kernelspec": {
   "display_name": "Python 3 (ipykernel)",
   "language": "python",
   "name": "python3"
  },
  "language_info": {
   "codemirror_mode": {
    "name": "ipython",
    "version": 3
   },
   "file_extension": ".py",
   "mimetype": "text/x-python",
   "name": "python",
   "nbconvert_exporter": "python",
   "pygments_lexer": "ipython3",
   "version": "3.9.12"
  }
 },
 "nbformat": 4,
 "nbformat_minor": 5
}
